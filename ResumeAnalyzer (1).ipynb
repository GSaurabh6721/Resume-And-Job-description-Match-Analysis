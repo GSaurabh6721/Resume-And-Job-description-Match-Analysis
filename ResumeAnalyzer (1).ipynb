{
 "cells": [
  {
   "cell_type": "code",
   "execution_count": 39,
   "id": "688b8e4a-950f-4c3e-b354-6b72cc520e57",
   "metadata": {},
   "outputs": [],
   "source": [
    "import nltk\n",
    "import string\n",
    "from nltk.corpus import stopwords\n",
    "from nltk.tokenize import word_tokenize\n",
    "from pdfminer.high_level import extract_text"
   ]
  },
  {
   "cell_type": "code",
   "execution_count": 34,
   "id": "1feff3fb-94bc-450b-9d0c-4450c53467b7",
   "metadata": {},
   "outputs": [
    {
     "name": "stdout",
     "output_type": "stream",
     "text": [
      "Collecting nltk\n",
      "  Downloading nltk-3.9.1-py3-none-any.whl.metadata (2.9 kB)\n",
      "Collecting click (from nltk)\n",
      "  Downloading click-8.1.8-py3-none-any.whl.metadata (2.3 kB)\n",
      "Collecting joblib (from nltk)\n",
      "  Downloading joblib-1.4.2-py3-none-any.whl.metadata (5.4 kB)\n",
      "Collecting regex>=2021.8.3 (from nltk)\n",
      "  Downloading regex-2024.11.6-cp313-cp313-win_amd64.whl.metadata (41 kB)\n",
      "Collecting tqdm (from nltk)\n",
      "  Downloading tqdm-4.67.1-py3-none-any.whl.metadata (57 kB)\n",
      "Requirement already satisfied: colorama in c:\\users\\gaikw\\appdata\\local\\programs\\python\\python313\\lib\\site-packages (from click->nltk) (0.4.6)\n",
      "Downloading nltk-3.9.1-py3-none-any.whl (1.5 MB)\n",
      "   ---------------------------------------- 0.0/1.5 MB ? eta -:--:--\n",
      "   ---------------------------------------- 1.5/1.5 MB 19.1 MB/s eta 0:00:00\n",
      "Downloading regex-2024.11.6-cp313-cp313-win_amd64.whl (273 kB)\n",
      "Downloading click-8.1.8-py3-none-any.whl (98 kB)\n",
      "Downloading joblib-1.4.2-py3-none-any.whl (301 kB)\n",
      "Downloading tqdm-4.67.1-py3-none-any.whl (78 kB)\n",
      "Installing collected packages: tqdm, regex, joblib, click, nltk\n",
      "Successfully installed click-8.1.8 joblib-1.4.2 nltk-3.9.1 regex-2024.11.6 tqdm-4.67.1\n"
     ]
    }
   ],
   "source": [
    "!pip install nltk\n"
   ]
  },
  {
   "cell_type": "code",
   "execution_count": 38,
   "id": "a3f91cb1-12a3-4652-a52b-c58fc4adf1bb",
   "metadata": {},
   "outputs": [
    {
     "name": "stdout",
     "output_type": "stream",
     "text": [
      "Collecting pdfminer.six\n",
      "  Using cached pdfminer_six-20250327-py3-none-any.whl.metadata (4.1 kB)\n",
      "Requirement already satisfied: charset-normalizer>=2.0.0 in c:\\users\\gaikw\\appdata\\local\\programs\\python\\python313\\lib\\site-packages (from pdfminer.six) (3.4.1)\n",
      "Collecting cryptography>=36.0.0 (from pdfminer.six)\n",
      "  Downloading cryptography-44.0.2-cp39-abi3-win_amd64.whl.metadata (5.7 kB)\n",
      "Requirement already satisfied: cffi>=1.12 in c:\\users\\gaikw\\appdata\\local\\programs\\python\\python313\\lib\\site-packages (from cryptography>=36.0.0->pdfminer.six) (1.17.1)\n",
      "Requirement already satisfied: pycparser in c:\\users\\gaikw\\appdata\\local\\programs\\python\\python313\\lib\\site-packages (from cffi>=1.12->cryptography>=36.0.0->pdfminer.six) (2.22)\n",
      "Downloading pdfminer_six-20250327-py3-none-any.whl (5.6 MB)\n",
      "   ---------------------------------------- 0.0/5.6 MB ? eta -:--:--\n",
      "   ------------------------ --------------- 3.4/5.6 MB 18.7 MB/s eta 0:00:01\n",
      "   ---------------------------------------- 5.6/5.6 MB 17.2 MB/s eta 0:00:00\n",
      "Downloading cryptography-44.0.2-cp39-abi3-win_amd64.whl (3.2 MB)\n",
      "   ---------------------------------------- 0.0/3.2 MB ? eta -:--:--\n",
      "   ---------------------------------------- 3.2/3.2 MB 17.3 MB/s eta 0:00:00\n",
      "Installing collected packages: cryptography, pdfminer.six\n",
      "Successfully installed cryptography-44.0.2 pdfminer.six-20250327\n"
     ]
    }
   ],
   "source": [
    "!pip install pdfminer.six\n"
   ]
  },
  {
   "cell_type": "code",
   "execution_count": 58,
   "id": "edb9d11e-89e1-4707-9909-730131c9cce5",
   "metadata": {},
   "outputs": [],
   "source": [
    "import re\n",
    "import string\n",
    "\n",
    "def preprocess_text(text, remove_stopwords=True):\n",
    "    # Convert to lowercase\n",
    "    text = text.lower()\n",
    "\n",
    "    # Remove punctuation and digits\n",
    "    text = re.sub(f\"[{re.escape(string.punctuation)}0-9]\", \" \", text)\n",
    "\n",
    "    # Tokenize using simple split\n",
    "    tokens = text.split()\n",
    "\n",
    "    # Remove stopwords manually if needed\n",
    "    if remove_stopwords:\n",
    "        stopwords = {\n",
    "            'a', 'an', 'the', 'and', 'or', 'but', 'if', 'while', 'of', 'at',\n",
    "            'by', 'for', 'with', 'about', 'against', 'between', 'into', 'through',\n",
    "            'during', 'before', 'after', 'above', 'below', 'to', 'from', 'up', 'down',\n",
    "            'in', 'out', 'on', 'off', 'over', 'under', 'again', 'further', 'then', 'once',\n",
    "            'here', 'there', 'when', 'where', 'why', 'how', 'all', 'any', 'both', 'each',\n",
    "            'few', 'more', 'most', 'other', 'some', 'such', 'no', 'nor', 'not', 'only',\n",
    "            'own', 'same', 'so', 'than', 'too', 'very', 'can', 'will', 'just', 'don',\n",
    "            'should', 'now'\n",
    "        }\n",
    "        tokens = [word for word in tokens if word not in stopwords]\n",
    "\n",
    "    return tokens\n"
   ]
  },
  {
   "cell_type": "code",
   "execution_count": 59,
   "id": "b1f362ef-cd49-4d1d-b9dc-120f4c1cb345",
   "metadata": {},
   "outputs": [],
   "source": [
    "resume_tokens = preprocess_text(resume_text_pdf)\n",
    "jd_tokens = preprocess_text(jd_text)\n"
   ]
  },
  {
   "cell_type": "code",
   "execution_count": 60,
   "id": "cc7bfa30-e037-47cd-b857-f749e9db12cb",
   "metadata": {},
   "outputs": [
    {
     "name": "stdout",
     "output_type": "stream",
     "text": [
      "Resume Tokens: ['saurabh', 'gaikwad', 'linkedin', 'gaikwadsaurabh', 'gmail', 'com', 'github', 'experiences', 'data', 'analyst', 'bonace', 'engineers', 'aug', 'oct', '•', 'developed', 'automated', 'etl', 'pipelines', 'using']\n",
      "JD Tokens: ['description', 'this', 'role', 'require', 'you', 'report', 'corporate', 'office', 'atlanta', 'ga', 'tempe', 'az', 'amazonâ€™s', 'transportation', 'execution', 'systems', 'team', 'is', 'seeking', 'transportation']\n"
     ]
    }
   ],
   "source": [
    "print(\"Resume Tokens:\", resume_tokens[:20])\n",
    "print(\"JD Tokens:\", jd_tokens[:20])\n"
   ]
  },
  {
   "cell_type": "code",
   "execution_count": 61,
   "id": "f7bda2c2-e903-4772-952e-921cb9914762",
   "metadata": {},
   "outputs": [
    {
     "name": "stdout",
     "output_type": "stream",
     "text": [
      "Similarity Score: 0.07\n"
     ]
    }
   ],
   "source": [
    "def jaccard_similarity(list1, list2):\n",
    "    set1 = set(list1)\n",
    "    set2 = set(list2)\n",
    "    intersection = set1.intersection(set2)\n",
    "    union = set1.union(set2)\n",
    "    return len(intersection) / len(union)\n",
    "\n",
    "similarity = jaccard_similarity(resume_tokens, jd_tokens)\n",
    "print(f\"Similarity Score: {similarity:.2f}\")\n"
   ]
  },
  {
   "cell_type": "code",
   "execution_count": 62,
   "id": "10b536b4-98f3-44dd-b55a-fc1038238b33",
   "metadata": {},
   "outputs": [],
   "source": [
    "def compare_resume_to_jd(resume_text, jd_text):\n",
    "    resume_tokens = preprocess_text(resume_text)\n",
    "    jd_tokens = preprocess_text(jd_text)\n",
    "    \n",
    "    # Similarity\n",
    "    sim = jaccard_similarity(resume_tokens, jd_tokens)\n",
    "\n",
    "    # Matching keywords\n",
    "    common_words = set(resume_tokens).intersection(set(jd_tokens))\n",
    "    \n",
    "    return {\n",
    "        \"similarity\": sim,\n",
    "        \"common_words\": list(common_words),\n",
    "        \"resume_token_count\": len(resume_tokens),\n",
    "        \"jd_token_count\": len(jd_tokens),\n",
    "        \"resume_only\": list(set(resume_tokens) - set(jd_tokens)),\n",
    "        \"jd_only\": list(set(jd_tokens) - set(resume_tokens)),\n",
    "    }\n"
   ]
  },
  {
   "cell_type": "code",
   "execution_count": 63,
   "id": "c3860a14-463c-4bef-9bea-d5c572d03214",
   "metadata": {},
   "outputs": [
    {
     "name": "stdout",
     "output_type": "stream",
     "text": [
      "Similarity Score: 0.06510416666666667\n",
      "Common Words: ['managing', 'that', 'report', 'management', 'data', 'improvement', 'continuous', 'team', 'excel', 'drive', 'experience', 's', 'performance', 'maintain', 'office', 'improvements', 'key', 'bachelor', 'process', 'analyst', 'operations', 'identifying', 'high', 'sql', 'driven']\n"
     ]
    }
   ],
   "source": [
    "results = compare_resume_to_jd(resume_text_pdf, jd_text)\n",
    "print(\"Similarity Score:\", results[\"similarity\"])\n",
    "print(\"Common Words:\", results[\"common_words\"])\n"
   ]
  },
  {
   "cell_type": "code",
   "execution_count": 64,
   "id": "7241bde4-31f7-428b-9d29-f94f0673d3de",
   "metadata": {},
   "outputs": [
    {
     "name": "stdout",
     "output_type": "stream",
     "text": [
      "🔍 Keywords missing from resume: ['amazon', 'amazonâ€™s', 'american', 'array', 'atlanta', 'az', 'basic', 'bright', 'center', 'centers', 'chain', 'charts', 'cleansing', 'configure', 'corporate', 'creates', 'criteria', 'decisions', 'degree', 'deliver', 'description', 'design', 'develop', 'develops', 'diploma', 'documentation', 'driving', 'e', 'encompasses', 'equivalent', 'etc', 'etls', 'exceptionally', 'execution', 'formulas', 'fulfillment', 'g', 'ga', 'identifies', 'improve', 'innovative', 'inputs', 'integrates', 'intermediate', 'internal', 'is', 'job', 'join', 'knowledge', 'large', 'lead', 'level', 'locations', 'logical', 'logistics', 'lookups', 'multiple', 'needs', 'nested', 'network', 'north', 'our', 'packages', 'party', 'people', 'pivot', 'preferred', 'problem', 'processes', 'program', 'programs', 'qualifications', 'reduce', 'reference', 'require', 'responsibilities', 'role', 'scale', 'school', 'seeking', 'sets', 'shipments', 'shipping', 'solutions', 'solve', 'streamline', 'supply', 'support', 'systems', 'tables', 'talented', 'tempe', 'third', 'this', 'training', 'transportation', 'update', 'utilizing', 'waste', 'ways', 'worldwide', 'years', 'you']\n"
     ]
    }
   ],
   "source": [
    "missing_keywords = set(results[\"jd_only\"])\n",
    "print(\"🔍 Keywords missing from resume:\", sorted(missing_keywords))\n"
   ]
  },
  {
   "cell_type": "code",
   "execution_count": 68,
   "id": "1f919677-c2a1-4513-b520-570cf07c81d7",
   "metadata": {},
   "outputs": [
    {
     "name": "stdout",
     "output_type": "stream",
     "text": [
      "📊 Resume–JD Match Report\n",
      "------------------------------\n",
      "✅ Similarity Score: 6.51%\n",
      "✅ Matched Keywords: managing, that, report, management, data, improvement, continuous, team, excel, drive, experience, s, performance, maintain, office, improvements, key, bachelor, process, analyst, operations, identifying, high, sql, driven\n",
      "❌ Missing from Resume: amazon, amazonâ€™s, american, array, atlanta, az, basic, bright, center, centers, chain, charts, cleansing, configure, corporate, creates, criteria, decisions, degree, deliver, description, design, develop, develops, diploma, documentation, driving, e, encompasses, equivalent, etc, etls, exceptionally, execution, formulas, fulfillment, g, ga, identifies, improve, innovative, inputs, integrates, intermediate, internal, is, job, join, knowledge, large, lead, level, locations, logical, logistics, lookups, multiple, needs, nested, network, north, our, packages, party, people, pivot, preferred, problem, processes, program, programs, qualifications, reduce, reference, require, responsibilities, role, scale, school, seeking, sets, shipments, shipping, solutions, solve, streamline, supply, support, systems, tables, talented, tempe, third, this, training, transportation, update, utilizing, waste, ways, worldwide, years, you\n"
     ]
    }
   ],
   "source": [
    "print(\"📊 Resume–JD Match Report\")\n",
    "print(\"-\" * 30)\n",
    "print(f\"✅ Similarity Score: {round(results['similarity'] * 100, 2)}%\")\n",
    "print(f\"✅ Matched Keywords: {', '.join(results['common_words'])}\")\n",
    "print(f\"❌ Missing from Resume: {', '.join(sorted(results['jd_only']))}\")\n"
   ]
  },
  {
   "cell_type": "code",
   "execution_count": 70,
   "id": "ce4065c4-c513-40d3-83e6-30d63f5383cb",
   "metadata": {},
   "outputs": [
    {
     "name": "stdout",
     "output_type": "stream",
     "text": [
      "Collecting scikit-learn\n",
      "  Downloading scikit_learn-1.6.1-cp313-cp313-win_amd64.whl.metadata (15 kB)\n",
      "Requirement already satisfied: numpy>=1.19.5 in c:\\users\\gaikw\\appdata\\local\\programs\\python\\python313\\lib\\site-packages (from scikit-learn) (2.2.4)\n",
      "Collecting scipy>=1.6.0 (from scikit-learn)\n",
      "  Downloading scipy-1.15.2-cp313-cp313-win_amd64.whl.metadata (60 kB)\n",
      "Requirement already satisfied: joblib>=1.2.0 in c:\\users\\gaikw\\appdata\\local\\programs\\python\\python313\\lib\\site-packages (from scikit-learn) (1.4.2)\n",
      "Collecting threadpoolctl>=3.1.0 (from scikit-learn)\n",
      "  Downloading threadpoolctl-3.6.0-py3-none-any.whl.metadata (13 kB)\n",
      "Downloading scikit_learn-1.6.1-cp313-cp313-win_amd64.whl (11.1 MB)\n",
      "   ---------------------------------------- 0.0/11.1 MB ? eta -:--:--\n",
      "   ------------- -------------------------- 3.7/11.1 MB 20.3 MB/s eta 0:00:01\n",
      "   ----------------------------- ---------- 8.1/11.1 MB 20.9 MB/s eta 0:00:01\n",
      "   ---------------------------------------- 11.1/11.1 MB 20.6 MB/s eta 0:00:00\n",
      "Downloading scipy-1.15.2-cp313-cp313-win_amd64.whl (41.0 MB)\n",
      "   ---------------------------------------- 0.0/41.0 MB ? eta -:--:--\n",
      "   ---- ----------------------------------- 4.5/41.0 MB 21.3 MB/s eta 0:00:02\n",
      "   --------- ------------------------------ 10.0/41.0 MB 24.4 MB/s eta 0:00:02\n",
      "   -------------- ------------------------- 14.7/41.0 MB 23.3 MB/s eta 0:00:02\n",
      "   ------------------ --------------------- 19.4/41.0 MB 23.4 MB/s eta 0:00:01\n",
      "   ---------------------- ----------------- 23.1/41.0 MB 23.2 MB/s eta 0:00:01\n",
      "   ------------------------- -------------- 26.5/41.0 MB 21.3 MB/s eta 0:00:01\n",
      "   ------------------------------ --------- 30.9/41.0 MB 21.4 MB/s eta 0:00:01\n",
      "   ---------------------------------- ----- 35.7/41.0 MB 21.6 MB/s eta 0:00:01\n",
      "   ---------------------------------------  40.6/41.0 MB 22.0 MB/s eta 0:00:01\n",
      "   ---------------------------------------- 41.0/41.0 MB 21.2 MB/s eta 0:00:00\n",
      "Downloading threadpoolctl-3.6.0-py3-none-any.whl (18 kB)\n",
      "Installing collected packages: threadpoolctl, scipy, scikit-learn\n",
      "Successfully installed scikit-learn-1.6.1 scipy-1.15.2 threadpoolctl-3.6.0\n",
      "Note: you may need to restart the kernel to use updated packages.\n"
     ]
    }
   ],
   "source": [
    "pip install scikit-learn\n"
   ]
  },
  {
   "cell_type": "code",
   "execution_count": 72,
   "id": "f795653b-763a-474f-a597-deae8fde516a",
   "metadata": {},
   "outputs": [
    {
     "name": "stderr",
     "output_type": "stream",
     "text": [
      "[nltk_data] Downloading package punkt to\n",
      "[nltk_data]     C:\\Users\\gaikw\\AppData\\Roaming\\nltk_data...\n",
      "[nltk_data]   Package punkt is already up-to-date!\n"
     ]
    },
    {
     "data": {
      "text/plain": [
       "True"
      ]
     },
     "execution_count": 72,
     "metadata": {},
     "output_type": "execute_result"
    }
   ],
   "source": [
    "import nltk\n",
    "nltk.download('punkt')\n"
   ]
  },
  {
   "cell_type": "code",
   "execution_count": 75,
   "id": "141034f0-fa3b-4af9-af0c-8c737ec9f140",
   "metadata": {},
   "outputs": [
    {
     "name": "stderr",
     "output_type": "stream",
     "text": [
      "[nltk_data] Downloading package punkt to\n",
      "[nltk_data]     C:\\Users\\gaikw\\AppData\\Roaming\\nltk_data...\n",
      "[nltk_data]   Package punkt is already up-to-date!\n",
      "[nltk_data] Downloading package punkt_tab to\n",
      "[nltk_data]     C:\\Users\\gaikw\\AppData\\Roaming\\nltk_data...\n",
      "[nltk_data]   Unzipping tokenizers\\punkt_tab.zip.\n"
     ]
    },
    {
     "data": {
      "text/plain": [
       "True"
      ]
     },
     "execution_count": 75,
     "metadata": {},
     "output_type": "execute_result"
    }
   ],
   "source": [
    "nltk.download('punkt')\n",
    "nltk.download('punkt_tab')\n"
   ]
  },
  {
   "cell_type": "code",
   "execution_count": 76,
   "id": "5e9cab5c-ed7d-4d4d-8b22-86dbd0eafd8f",
   "metadata": {},
   "outputs": [
    {
     "name": "stderr",
     "output_type": "stream",
     "text": [
      "[nltk_data] Downloading package punkt to\n",
      "[nltk_data]     C:\\Users\\gaikw\\AppData\\Roaming\\nltk_data...\n",
      "[nltk_data]   Package punkt is already up-to-date!\n"
     ]
    },
    {
     "data": {
      "image/png": "[encoded data removed]",
      "text/plain": [
       "<Figure size 1000x600 with 1 Axes>"
      ]
     },
     "metadata": {},
     "output_type": "display_data"
    },
    {
     "name": "stdout",
     "output_type": "stream",
     "text": [
      "Results saved to similarity_scores.csv\n"
     ]
    }
   ],
   "source": [
    "import os\n",
    "import nltk\n",
    "import string\n",
    "import pandas as pd\n",
    "import matplotlib.pyplot as plt\n",
    "from sklearn.feature_extraction.text import TfidfVectorizer\n",
    "from sklearn.metrics.pairwise import cosine_similarity\n",
    "\n",
    "# Make sure necessary NLTK resources are downloaded\n",
    "nltk.download('punkt')\n",
    "\n",
    "# Function to preprocess text\n",
    "def preprocess_text(text, remove_stopwords=True):\n",
    "    # Tokenize text\n",
    "    tokens = nltk.word_tokenize(text.lower())\n",
    "    # Remove punctuation and digits\n",
    "    tokens = [word for word in tokens if word not in string.punctuation and not word.isdigit()]\n",
    "    # Remove stopwords if specified\n",
    "    if remove_stopwords:\n",
    "        stopwords = nltk.corpus.stopwords.words('english')\n",
    "        tokens = [word for word in tokens if word not in stopwords]\n",
    "    return ' '.join(tokens)\n",
    "\n",
    "# Function to calculate cosine similarity between resumes and job descriptions\n",
    "def calculate_similarity(resume_texts, jd_text):\n",
    "    # Preprocess all texts\n",
    "    processed_resumes = [preprocess_text(resume) for resume in resume_texts]\n",
    "    processed_jd = preprocess_text(jd_text)\n",
    "    \n",
    "    # Combine the JD with resumes for vectorization\n",
    "    all_texts = processed_resumes + [processed_jd]\n",
    "    \n",
    "    # Vectorize the texts using TF-IDF\n",
    "    vectorizer = TfidfVectorizer()\n",
    "    tfidf_matrix = vectorizer.fit_transform(all_texts)\n",
    "    \n",
    "    # Calculate cosine similarity\n",
    "    cosine_similarities = cosine_similarity(tfidf_matrix[-1], tfidf_matrix[:-1])\n",
    "    \n",
    "    # Return similarity scores\n",
    "    return cosine_similarities.flatten()\n",
    "\n",
    "# Function to generate a bar chart of similarity scores\n",
    "def plot_similarity(scores, resume_names):\n",
    "    plt.figure(figsize=(10, 6))\n",
    "    plt.barh(resume_names, scores, color='skyblue')\n",
    "    plt.xlabel('Cosine Similarity Score')\n",
    "    plt.title('Top Resume Matches with Job Description')\n",
    "    plt.gca().invert_yaxis()  # Invert y-axis for top to bottom order\n",
    "    plt.show()\n",
    "\n",
    "# Function to save results to a CSV\n",
    "def save_to_csv(resume_names, scores, filename=\"similarity_scores.csv\"):\n",
    "    df = pd.DataFrame({\n",
    "        'Resume': resume_names,\n",
    "        'Similarity Score': scores\n",
    "    })\n",
    "    df.to_csv(filename, index=False)\n",
    "    print(f\"Results saved to {filename}\")\n",
    "\n",
    "# Example data: List of resumes and a job description\n",
    "resume_texts = [\n",
    "    \"Saurabh Gaikwad, Data Analyst at Bonace Engineers, developed ETL pipelines using Python, SQL, and Pandas.\",\n",
    "    \"John Doe, Data Scientist with experience in ML and data visualization, proficient in Python, R, SQL.\",\n",
    "    \"Alice Smith, Business Analyst, specializing in process optimization and data analysis in operations.\"\n",
    "]\n",
    "jd_text = \"Amazon is looking for a Data Analyst to manage data pipelines, perform analysis, and drive operational improvements.\"\n",
    "\n",
    "# Calculate similarity scores\n",
    "similarity_scores = calculate_similarity(resume_texts, jd_text)\n",
    "\n",
    "# Plot similarity scores\n",
    "plot_similarity(similarity_scores, [\"Resume 1\", \"Resume 2\", \"Resume 3\"])\n",
    "\n",
    "# Save results to CSV\n",
    "save_to_csv([\"Resume 1\", \"Resume 2\", \"Resume 3\"], similarity_scores)\n"
   ]
  },
  {
   "cell_type": "code",
   "execution_count": null,
   "id": "e6d22f44-6849-4c96-b169-a6b55ffb2006",
   "metadata": {},
   "outputs": [],
   "source": []
  }
 ],
 "metadata": {
  "kernelspec": {
   "display_name": "Python 3 (ipykernel)",
   "language": "python",
   "name": "python3"
  },
  "language_info": {
   "codemirror_mode": {
    "name": "ipython",
    "version": 3
   },
   "file_extension": ".py",
   "mimetype": "text/x-python",
   "name": "python",
   "nbconvert_exporter": "python",
   "pygments_lexer": "ipython3",
   "version": "3.13.2"
  }
 },
 "nbformat": 4,
 "nbformat_minor": 5
}
